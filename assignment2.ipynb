{
  "nbformat": 4,
  "nbformat_minor": 0,
  "metadata": {
    "colab": {
      "name": "assignment2",
      "provenance": [],
      "collapsed_sections": []
    },
    "kernelspec": {
      "name": "python3",
      "display_name": "Python 3"
    },
    "accelerator": "GPU"
  },
  "cells": [
    {
      "cell_type": "code",
      "metadata": {
        "id": "bSPRteNucUai"
      },
      "source": [
        "import os\n",
        "import numpy as np\n",
        "import librosa\n",
        "import time\n",
        " \n",
        "#%%\n",
        "direc = \"/content/drive/MyDrive/\"\n",
        "y_fb = np.load(direc+\"freefield1010-labels.npy\").astype(int)\n",
        "X_fb = np.load(direc+\"freefield1010-spectrograms.npy\")[..., np.newaxis]\n",
        "y_wb = np.load(direc+\"warblrb10k-labels.npy\").astype(int)\n",
        "X_wb = np.load(direc+\"warblrb10k-spectrograms.npy\")[..., np.newaxis]"
      ],
      "execution_count": 1,
      "outputs": []
    },
    {
      "cell_type": "code",
      "metadata": {
        "id": "chxkUnYucpWZ"
      },
      "source": [
        "#%%\n",
        "from sklearn.model_selection import train_test_split\n",
        "\n",
        "trainX_wb, validX_wb, trainY_wb, validY_wb = train_test_split(X_wb, \n",
        "                                                            y_wb, \n",
        "                                                            test_size=0.3,\n",
        "                                                            stratify=y_wb)\n",
        "\n",
        "\n",
        "\n",
        "trainX_fb, validX_fb, trainY_fb, validY_fb = train_test_split(X_fb, \n",
        "                                                            y_fb, \n",
        "                                                            test_size=0.3,\n",
        "                                                            stratify=y_fb)\n",
        "\n",
        "validX_wb, testX_wb, validY_wb, testY_wb = train_test_split(validX_wb, \n",
        "                                                            validY_wb, \n",
        "                                                            test_size=0.33,\n",
        "                                                            stratify=validY_wb)\n",
        "\n",
        "\n",
        "\n",
        "validX_fb, testX_fb, validY_fb, testY_fb = train_test_split(validX_fb, \n",
        "                                                            validY_fb, \n",
        "                                                            test_size=0.33,\n",
        "                                                            stratify=validY_fb)\n",
        "\n"
      ],
      "execution_count": 4,
      "outputs": []
    },
    {
      "cell_type": "code",
      "metadata": {
        "id": "6FS9xft_8hIM"
      },
      "source": [
        "validX = np.concatenate((validX_wb, validX_fb),)\n",
        "validY = np.concatenate((validY_wb, validY_fb))\n",
        "\n",
        "trainX = np.concatenate((trainX_wb, trainX_fb))\n",
        "trainY = np.concatenate((trainY_wb, trainY_fb))\n",
        "\n",
        "testX = np.concatenate((testX_wb, testX_fb))\n",
        "testY = np.concatenate((testY_wb, testY_fb))"
      ],
      "execution_count": 19,
      "outputs": []
    },
    {
      "cell_type": "code",
      "metadata": {
        "colab": {
          "base_uri": "https://localhost:8080/",
          "height": 318
        },
        "id": "ToJgzsNL_5Ig",
        "outputId": "a7eb3bbf-57e6-4b86-9c20-39bbaa177ed3"
      },
      "source": [
        "import matplotlib.pyplot as plt\n",
        "plt.hist(testY)"
      ],
      "execution_count": 18,
      "outputs": [
        {
          "output_type": "execute_result",
          "data": {
            "text/plain": [
              "(array([764.,   0.,   0.,   0.,   0.,   0.,   0.,   0.,   0., 790.]),\n",
              " array([0. , 0.1, 0.2, 0.3, 0.4, 0.5, 0.6, 0.7, 0.8, 0.9, 1. ]),\n",
              " <a list of 10 Patch objects>)"
            ]
          },
          "metadata": {
            "tags": []
          },
          "execution_count": 18
        },
        {
          "output_type": "display_data",
          "data": {
            "image/png": "[encoded data removed]",
            "text/plain": [
              "<Figure size 432x288 with 1 Axes>"
            ]
          },
          "metadata": {
            "tags": [],
            "needs_background": "light"
          }
        }
      ]
    },
    {
      "cell_type": "code",
      "metadata": {
        "id": "Uu7MXj4n1sRn"
      },
      "source": [
        "from sklearn.model_selection import StratifiedKFold\n",
        "\n",
        "skf = StratifiedKFold(n_splits=5, shuffle=True, random_state=1)\n",
        "\n",
        "fb_folds = skf.get_n_splits(X_fb, y_fb)\n",
        "wb_folds = skf.get_n_splits(X_wb, y_wb)"
      ],
      "execution_count": 59,
      "outputs": []
    },
    {
      "cell_type": "code",
      "metadata": {
        "id": "5Lwhutgdcrs1"
      },
      "source": [
        "#%%\n",
        "import tensorflow as tf\n",
        "from tensorflow.keras.models import Sequential\n",
        "from tensorflow.keras.layers import Dense\n",
        "from tensorflow.keras.layers import Conv2D\n",
        "from tensorflow.keras.layers import Flatten\n",
        "from tensorflow.keras.layers import Dropout\n",
        "from tensorflow.keras.layers import BatchNormalization\n",
        "from tensorflow.keras.layers import MaxPooling2D\n",
        "from tensorflow.keras.callbacks import EarlyStopping\n",
        " \n",
        "filters = 64\n",
        "dropout_rate = 0.3\n",
        "model = Sequential()\n",
        " \n",
        "model.add(Conv2D(filters, kernel_size=5, activation='relu', padding=\"same\"))\n",
        "model.add(BatchNormalization())\n",
        "model.add(MaxPooling2D((1, 5)))\n",
        "model.add(Dropout(dropout_rate))\n",
        " \n",
        "model.add(Conv2D(filters, kernel_size=5, activation='relu', padding=\"same\"))\n",
        "model.add(BatchNormalization())\n",
        "model.add(MaxPooling2D((1, 2)))\n",
        "model.add(Dropout(dropout_rate))\n",
        " \n",
        "model.add(Conv2D(filters, kernel_size=5, activation='relu', padding=\"same\"))\n",
        "model.add(BatchNormalization())\n",
        "model.add(MaxPooling2D((1, 2)))\n",
        "model.add(Dropout(dropout_rate))\n",
        " \n",
        "model.add(Conv2D(filters, kernel_size=5, activation='relu', padding=\"same\"))\n",
        "model.add(BatchNormalization())\n",
        "model.add(MaxPooling2D((1, 2)))\n",
        "model.add(Dropout(dropout_rate))\n",
        " \n",
        "model.add(Flatten())\n",
        "model.add(Dense(256, activation='relu'))\n",
        "model.add(Dropout(dropout_rate))\n",
        "model.add(Dense(32, activation='relu'))\n",
        "model.add(Dropout(dropout_rate))\n",
        "model.add(Dense(1, activation='sigmoid'))"
      ],
      "execution_count": 22,
      "outputs": []
    },
    {
      "cell_type": "code",
      "metadata": {
        "id": "rHqNGCfWcsPQ",
        "colab": {
          "base_uri": "https://localhost:8080/"
        },
        "outputId": "db6c29d1-f498-4c14-acff-ea30960fc26e"
      },
      "source": [
        "epochs = 200\n",
        "batch_size = 64\n",
        "learning_rate = 0.00001\n",
        "print(f\"Running {epochs} epochs with batch size of {batch_size} and learning rate of {learning_rate}.\")\n",
        "opt = tf.optimizers.Adam(lr=learning_rate)\n",
        " \n",
        "# Keskeyttää fitin, jos validation accuracy ei parane 10 epochiin.\n",
        "callback = EarlyStopping(monitor='val_auc', patience=10, \n",
        "                         restore_best_weights=True, mode=\"max\")\n",
        "model.compile(optimizer=opt, loss='binary_crossentropy', metrics=['AUC', 'accuracy'])"
      ],
      "execution_count": 30,
      "outputs": [
        {
          "output_type": "stream",
          "text": [
            "Running 200 epochs with batch size of 64 and learning rate of 1e-05.\n"
          ],
          "name": "stdout"
        }
      ]
    },
    {
      "cell_type": "code",
      "metadata": {
        "id": "JUNELP0zcu01",
        "colab": {
          "base_uri": "https://localhost:8080/"
        },
        "outputId": "e198c29b-b2e7-476c-cecf-17ed5b5203d9"
      },
      "source": [
        "#%% Without data augmentation\n",
        "history = model.fit(trainX, trainY, \n",
        "                    epochs=epochs, \n",
        "                    validation_data=(validX, validY), \n",
        "                    batch_size=batch_size, \n",
        "                    callbacks=[callback],\n",
        "                    verbose=2)\n",
        " \n",
        "print(\"Finished\")"
      ],
      "execution_count": 32,
      "outputs": [
        {
          "output_type": "stream",
          "text": [
            "Epoch 1/200\n",
            "WARNING:tensorflow:Callbacks method `on_train_batch_end` is slow compared to the batch time (batch time: 0.0763s vs `on_train_batch_end` time: 0.1227s). Check your callbacks.\n",
            "172/172 - 38s - loss: 0.2442 - auc: 0.9632 - accuracy: 0.8956 - val_loss: 0.8719 - val_auc: 0.8806 - val_accuracy: 0.8040\n",
            "Epoch 2/200\n",
            "172/172 - 37s - loss: 0.2380 - auc: 0.9647 - accuracy: 0.9002 - val_loss: 0.9964 - val_auc: 0.8669 - val_accuracy: 0.7942\n",
            "Epoch 3/200\n",
            "172/172 - 37s - loss: 0.2347 - auc: 0.9657 - accuracy: 0.9004 - val_loss: 0.7769 - val_auc: 0.9000 - val_accuracy: 0.8176\n",
            "Epoch 4/200\n",
            "172/172 - 37s - loss: 0.2280 - auc: 0.9676 - accuracy: 0.9046 - val_loss: 0.9073 - val_auc: 0.8769 - val_accuracy: 0.8049\n",
            "Epoch 5/200\n",
            "172/172 - 37s - loss: 0.2273 - auc: 0.9678 - accuracy: 0.9049 - val_loss: 0.6241 - val_auc: 0.9119 - val_accuracy: 0.8382\n",
            "Epoch 6/200\n",
            "172/172 - 37s - loss: 0.2206 - auc: 0.9698 - accuracy: 0.9085 - val_loss: 1.1494 - val_auc: 0.8563 - val_accuracy: 0.7821\n",
            "Epoch 7/200\n",
            "172/172 - 37s - loss: 0.2185 - auc: 0.9705 - accuracy: 0.9089 - val_loss: 0.8440 - val_auc: 0.8855 - val_accuracy: 0.8069\n",
            "Epoch 8/200\n",
            "172/172 - 37s - loss: 0.2167 - auc: 0.9709 - accuracy: 0.9105 - val_loss: 0.8145 - val_auc: 0.8962 - val_accuracy: 0.8164\n",
            "Epoch 9/200\n",
            "172/172 - 37s - loss: 0.2148 - auc: 0.9717 - accuracy: 0.9089 - val_loss: 1.1406 - val_auc: 0.8631 - val_accuracy: 0.7853\n",
            "Epoch 10/200\n",
            "172/172 - 37s - loss: 0.2080 - auc: 0.9733 - accuracy: 0.9152 - val_loss: 1.1222 - val_auc: 0.8614 - val_accuracy: 0.7907\n",
            "Epoch 11/200\n",
            "172/172 - 37s - loss: 0.2049 - auc: 0.9743 - accuracy: 0.9153 - val_loss: 0.9021 - val_auc: 0.8880 - val_accuracy: 0.8024\n",
            "Epoch 12/200\n",
            "172/172 - 37s - loss: 0.2057 - auc: 0.9738 - accuracy: 0.9147 - val_loss: 0.9183 - val_auc: 0.8861 - val_accuracy: 0.8040\n",
            "Epoch 13/200\n",
            "172/172 - 37s - loss: 0.1989 - auc: 0.9755 - accuracy: 0.9176 - val_loss: 0.9627 - val_auc: 0.8785 - val_accuracy: 0.7986\n",
            "Epoch 14/200\n",
            "172/172 - 37s - loss: 0.1977 - auc: 0.9760 - accuracy: 0.9197 - val_loss: 0.7960 - val_auc: 0.9042 - val_accuracy: 0.8252\n",
            "Epoch 15/200\n",
            "172/172 - 37s - loss: 0.1965 - auc: 0.9759 - accuracy: 0.9169 - val_loss: 0.8763 - val_auc: 0.8880 - val_accuracy: 0.8113\n",
            "Finished\n"
          ],
          "name": "stdout"
        }
      ]
    },
    {
      "cell_type": "code",
      "metadata": {
        "id": "LZUaoTwQGO50",
        "colab": {
          "base_uri": "https://localhost:8080/",
          "height": 372
        },
        "outputId": "fd4d0d1e-3a46-44a9-87bd-b6d90e5abdd9"
      },
      "source": [
        "predY = np.round(np.squeeze(model.predict(testX, verbose=0)), decimals=0)\n",
        "acc = np.sum(predY == testY) / testY.shape[0]\n",
        "print(f\"Accuracy using model.predict: {acc:.4f}\")\n",
        "import matplotlib.pyplot as plt\n",
        "plt.hist(np.squeeze(model.predict(testX, verbose=0)))"
      ],
      "execution_count": 33,
      "outputs": [
        {
          "output_type": "stream",
          "text": [
            "Accuracy using model.predict: 0.8263\n"
          ],
          "name": "stdout"
        },
        {
          "output_type": "execute_result",
          "data": {
            "text/plain": [
              "(array([490.,  62.,  30.,  28.,  52.,  41.,  34.,  38.,  44., 735.]),\n",
              " array([3.53211902e-07, 1.00000314e-01, 2.00000286e-01, 3.00000250e-01,\n",
              "        4.00000215e-01, 5.00000179e-01, 6.00000143e-01, 7.00000107e-01,\n",
              "        8.00000072e-01, 9.00000036e-01, 1.00000000e+00], dtype=float32),\n",
              " <a list of 10 Patch objects>)"
            ]
          },
          "metadata": {
            "tags": []
          },
          "execution_count": 33
        },
        {
          "output_type": "display_data",
          "data": {
            "image/png": "[encoded data removed]",
            "text/plain": [
              "<Figure size 432x288 with 1 Axes>"
            ]
          },
          "metadata": {
            "tags": [],
            "needs_background": "light"
          }
        }
      ]
    },
    {
      "cell_type": "code",
      "metadata": {
        "id": "bcJUaJo2dIq4"
      },
      "source": [
        "model.save('model_good.h5')"
      ],
      "execution_count": 26,
      "outputs": []
    },
    {
      "cell_type": "code",
      "metadata": {
        "id": "qpGmsRMvO1f9"
      },
      "source": [
        "model.save('warbird.h5')"
      ],
      "execution_count": 54,
      "outputs": []
    },
    {
      "cell_type": "code",
      "metadata": {
        "id": "4hd4rsmvVVWG"
      },
      "source": [
        "fb_model = tf.keras.models.load_model('freebird.h5')\n",
        "wb_model = tf.keras.models.load_model('warbird.h5')"
      ],
      "execution_count": 55,
      "outputs": []
    },
    {
      "cell_type": "code",
      "metadata": {
        "id": "JOvx1P-Soogb",
        "colab": {
          "base_uri": "https://localhost:8080/"
        },
        "outputId": "148fe9a1-2fb4-4372-d256-5c9c1541ef20"
      },
      "source": [
        "submissionX = np.load(direc+\"test-spectrograms.npy\")[..., np.newaxis]\n",
        "submissionX.shape"
      ],
      "execution_count": 27,
      "outputs": [
        {
          "output_type": "execute_result",
          "data": {
            "text/plain": [
              "(4512, 862, 40, 1)"
            ]
          },
          "metadata": {
            "tags": []
          },
          "execution_count": 27
        }
      ]
    },
    {
      "cell_type": "code",
      "metadata": {
        "colab": {
          "base_uri": "https://localhost:8080/"
        },
        "id": "GcJdxlCNCWvs",
        "outputId": "8a8e23d5-b818-45f3-f911-c8464e1d3faf"
      },
      "source": [
        "results = np.squeeze(model.predict(submissionX))\n",
        "results.shape"
      ],
      "execution_count": 34,
      "outputs": [
        {
          "output_type": "execute_result",
          "data": {
            "text/plain": [
              "(4512,)"
            ]
          },
          "metadata": {
            "tags": []
          },
          "execution_count": 34
        }
      ]
    },
    {
      "cell_type": "code",
      "metadata": {
        "colab": {
          "base_uri": "https://localhost:8080/"
        },
        "id": "Rfg7ma1GWLn0",
        "outputId": "2af5be90-642d-46e1-8330-08fb5af9d87e"
      },
      "source": [
        "results_wb = np.squeeze(wb_model.predict(submissionX))\n",
        "results_fb = np.squeeze(fb_model.predict(submissionX))\n",
        "results = np.average((results_wb, results_fb), axis=0)\n",
        "results.shape"
      ],
      "execution_count": 56,
      "outputs": [
        {
          "output_type": "execute_result",
          "data": {
            "text/plain": [
              "(4512,)"
            ]
          },
          "metadata": {
            "tags": []
          },
          "execution_count": 56
        }
      ]
    },
    {
      "cell_type": "code",
      "metadata": {
        "colab": {
          "base_uri": "https://localhost:8080/",
          "height": 354
        },
        "id": "-UykOr9QHDW1",
        "outputId": "c9e90194-bd14-464e-fee2-b25aec082049"
      },
      "source": [
        "import matplotlib.pyplot as plt\n",
        "plt.hist(results)"
      ],
      "execution_count": 35,
      "outputs": [
        {
          "output_type": "execute_result",
          "data": {
            "text/plain": [
              "(array([ 40., 112., 437., 794., 499., 387., 500., 524., 412., 807.]),\n",
              " array([0.02851933, 0.1256674 , 0.22281547, 0.31996354, 0.4171116 ,\n",
              "        0.51425964, 0.61140776, 0.7085558 , 0.8057039 , 0.90285194,\n",
              "        1.        ], dtype=float32),\n",
              " <a list of 10 Patch objects>)"
            ]
          },
          "metadata": {
            "tags": []
          },
          "execution_count": 35
        },
        {
          "output_type": "display_data",
          "data": {
            "image/png": "[encoded data removed]",
            "text/plain": [
              "<Figure size 432x288 with 1 Axes>"
            ]
          },
          "metadata": {
            "tags": [],
            "needs_background": "light"
          }
        }
      ]
    },
    {
      "cell_type": "code",
      "metadata": {
        "colab": {
          "base_uri": "https://localhost:8080/",
          "height": 354
        },
        "id": "QyZlDgc_dwPq",
        "outputId": "6c8804bb-16c5-4eac-a7f9-ef7e1bfcdf4b"
      },
      "source": [
        "import matplotlib.pyplot as plt\n",
        "plt.hist(results)"
      ],
      "execution_count": 29,
      "outputs": [
        {
          "output_type": "execute_result",
          "data": {
            "text/plain": [
              "(array([116., 654., 809., 363., 980., 620., 164., 109.,  79., 618.]),\n",
              " array([0.01777291, 0.11599562, 0.21421833, 0.31244105, 0.41066375,\n",
              "        0.50888646, 0.6071092 , 0.70533186, 0.8035546 , 0.90177727,\n",
              "        1.        ], dtype=float32),\n",
              " <a list of 10 Patch objects>)"
            ]
          },
          "metadata": {
            "tags": []
          },
          "execution_count": 29
        },
        {
          "output_type": "display_data",
          "data": {
            "image/png": "[encoded data removed]",
            "text/plain": [
              "<Figure size 432x288 with 1 Axes>"
            ]
          },
          "metadata": {
            "tags": [],
            "needs_background": "light"
          }
        }
      ]
    },
    {
      "cell_type": "code",
      "metadata": {
        "colab": {
          "base_uri": "https://localhost:8080/"
        },
        "id": "9FgIJmapJjga",
        "outputId": "5daccb99-47f8-4daa-f53c-45b9499dea7d"
      },
      "source": [
        "test_order = np.load(\"/content/drive/MyDrive/test_order.npy\")\n",
        "test_order.shape\n",
        "test_list = []\n",
        "for name in test_order:\n",
        "  test_list.append(name.split(\".\")[0])\n",
        "print(test_list)"
      ],
      "execution_count": 39,
      "outputs": [
        {
          "output_type": "stream",
          "text": [
            "['0', '1', '10', '100', '1000', '1001', '1002', '1003', '1004', '1005', '1006', '1007', '1008', '1009', '101', '1010', '1011', '1012', '1013', '1014', '1015', '1016', '1017', '1018', '1019', '102', '1020', '1021', '1022', '1023', '1024', '1025', '1026', '1027', '1028', '1029', '103', '1030', '1031', '1032', '1033', '1034', '1035', '1036', '1037', '1038', '1039', '104', '1040', '1041', '1042', '1043', '1044', '1045', '1046', '1047', '1048', '1049', '105', '1050', '1051', '1052', '1053', '1054', '1055', '1056', '1057', '1058', '1059', '106', '1060', '1061', '1062', '1063', '1064', '1065', '1066', '1067', '1068', '1069', '107', '1070', '1071', '1072', '1073', '1074', '1075', '1076', '1077', '1078', '1079', '108', '1080', '1081', '1082', '1083', '1084', '1085', '1086', '1087', '1088', '1089', '109', '1090', '1091', '1092', '1093', '1094', '1095', '1096', '1097', '1098', '1099', '11', '110', '1100', '1101', '1102', '1103', '1104', '1105', '1106', '1107', '1108', '1109', '111', '1110', '1111', '1112', '1113', '1114', '1115', '1116', '1117', '1118', '1119', '112', '1120', '1121', '1122', '1123', '1124', '1125', '1126', '1127', '1128', '1129', '113', '1130', '1131', '1132', '1133', '1134', '1135', '1136', '1137', '1138', '1139', '114', '1140', '1141', '1142', '1143', '1144', '1145', '1146', '1147', '1148', '1149', '115', '1150', '1151', '1152', '1153', '1154', '1155', '1156', '1157', '1158', '1159', '116', '1160', '1161', '1162', '1163', '1164', '1165', '1166', '1167', '1168', '1169', '117', '1170', '1171', '1172', '1173', '1174', '1175', '1176', '1177', '1178', '1179', '118', '1180', '1181', '1182', '1183', '1184', '1185', '1186', '1187', '1188', '1189', '119', '1190', '1191', '1192', '1193', '1194', '1195', '1196', '1197', '1198', '1199', '12', '120', '1200', '1201', '1202', '1203', '1204', '1205', '1206', '1207', '1208', '1209', '121', '1210', '1211', '1212', '1213', '1214', '1215', '1216', '1217', '1218', '1219', '122', '1220', '1221', '1222', '1223', '1224', '1225', '1226', '1227', '1228', '1229', '123', '1230', '1231', '1232', '1233', '1234', '1235', '1236', '1237', '1238', '1239', '124', '1240', '1241', '1242', '1243', '1244', '1245', '1246', '1247', '1248', '1249', '125', '1250', '1251', '1252', '1253', '1254', '1255', '1256', '1257', '1258', '1259', '126', '1260', '1261', '1262', '1263', '1264', '1265', '1266', '1267', '1268', '1269', '127', '1270', '1271', '1272', '1273', '1274', '1275', '1276', '1277', '1278', '1279', '128', '1280', '1281', '1282', '1283', '1284', '1285', '1286', '1287', '1288', '1289', '129', '1290', '1291', '1292', '1293', '1294', '1295', '1296', '1297', '1298', '1299', '13', '130', '1300', '1301', '1302', '1303', '1304', '1305', '1306', '1307', '1308', '1309', '131', '1310', '1311', '1312', '1313', '1314', '1315', '1316', '1317', '1318', '1319', '132', '1320', '1321', '1322', '1323', '1324', '1325', '1326', '1327', '1328', '1329', '133', '1330', '1331', '1332', '1333', '1334', '1335', '1336', '1337', '1338', '1339', '134', '1340', '1341', '1342', '1343', '1344', '1345', '1346', '1347', '1348', '1349', '135', '1350', '1351', '1352', '1353', '1354', '1355', '1356', '1357', '1358', '1359', '136', '1360', '1361', '1362', '1363', '1364', '1365', '1366', '1367', '1368', '1369', '137', '1370', '1371', '1372', '1373', '1374', '1375', '1376', '1377', '1378', '1379', '138', '1380', '1381', '1382', '1383', '1384', '1385', '1386', '1387', '1388', '1389', '139', '1390', '1391', '1392', '1393', '1394', '1395', '1396', '1397', '1398', '1399', '14', '140', '1400', '1401', '1402', '1403', '1404', '1405', '1406', '1407', '1408', '1409', '141', '1410', '1411', '1412', '1413', '1414', '1415', '1416', '1417', '1418', '1419', '142', '1420', '1421', '1422', '1423', '1424', '1425', '1426', '1427', '1428', '1429', '143', '1430', '1431', '1432', '1433', '1434', '1435', '1436', '1437', '1438', '1439', '144', '1440', '1441', '1442', '1443', '1444', '1445', '1446', '1447', '1448', '1449', '145', '1450', '1451', '1452', '1453', '1454', '1455', '1456', '1457', '1458', '1459', '146', '1460', '1461', '1462', '1463', '1464', '1465', '1466', '1467', '1468', '1469', '147', '1470', '1471', '1472', '1473', '1474', '1475', '1476', '1477', '1478', '1479', '148', '1480', '1481', '1482', '1483', '1484', '1485', '1486', '1487', '1488', '1489', '149', '1490', '1491', '1492', '1493', '1494', '1495', '1496', '1497', '1498', '1499', '15', '150', '1500', '1501', '1502', '1503', '1504', '1505', '1506', '1507', '1508', '1509', '151', '1510', '1511', '1512', '1513', '1514', '1515', '1516', '1517', '1518', '1519', '152', '1520', '1521', '1522', '1523', '1524', '1525', '1526', '1527', '1528', '1529', '153', '1530', '1531', '1532', '1533', '1534', '1535', '1536', '1537', '1538', '1539', '154', '1540', '1541', '1542', '1543', '1544', '1545', '1546', '1547', '1548', '1549', '155', '1550', '1551', '1552', '1553', '1554', '1555', '1556', '1557', '1558', '1559', '156', '1560', '1561', '1562', '1563', '1564', '1565', '1566', '1567', '1568', '1569', '157', '1570', '1571', '1572', '1573', '1574', '1575', '1576', '1577', '1578', '1579', '158', '1580', '1581', '1582', '1583', '1584', '1585', '1586', '1587', '1588', '1589', '159', '1590', '1591', '1592', '1593', '1594', '1595', '1596', '1597', '1598', '1599', '16', '160', '1600', '1601', '1602', '1603', '1604', '1605', '1606', '1607', '1608', '1609', '161', '1610', '1611', '1612', '1613', '1614', '1615', '1616', '1617', '1618', '1619', '162', '1620', '1621', '1622', '1623', '1624', '1625', '1626', '1627', '1628', '1629', '163', '1630', '1631', '1632', '1633', '1634', '1635', '1636', '1637', '1638', '1639', '164', '1640', '1641', '1642', '1643', '1644', '1645', '1646', '1647', '1648', '1649', '165', '1650', '1651', '1652', '1653', '1654', '1655', '1656', '1657', '1658', '1659', '166', '1660', '1661', '1662', '1663', '1664', '1665', '1666', '1667', '1668', '1669', '167', '1670', '1671', '1672', '1673', '1674', '1675', '1676', '1677', '1678', '1679', '168', '1680', '1681', '1682', '1683', '1684', '1685', '1686', '1687', '1688', '1689', '169', '1690', '1691', '1692', '1693', '1694', '1695', '1696', '1697', '1698', '1699', '17', '170', '1700', '1701', '1702', '1703', '1704', '1705', '1706', '1707', '1708', '1709', '171', '1710', '1711', '1712', '1713', '1714', '1715', '1716', '1717', '1718', '1719', '172', '1720', '1721', '1722', '1723', '1724', '1725', '1726', '1727', '1728', '1729', '173', '1730', '1731', '1732', '1733', '1734', '1735', '1736', '1737', '1738', '1739', '174', '1740', '1741', '1742', '1743', '1744', '1745', '1746', '1747', '1748', '1749', '175', '1750', '1751', '1752', '1753', '1754', '1755', '1756', '1757', '1758', '1759', '176', '1760', '1761', '1762', '1763', '1764', '1765', '1766', '1767', '1768', '1769', '177', '1770', '1771', '1772', '1773', '1774', '1775', '1776', '1777', '1778', '1779', '178', '1780', '1781', '1782', '1783', '1784', '1785', '1786', '1787', '1788', '1789', '179', '1790', '1791', '1792', '1793', '1794', '1795', '1796', '1797', '1798', '1799', '18', '180', '1800', '1801', '1802', '1803', '1804', '1805', '1806', '1807', '1808', '1809', '181', '1810', '1811', '1812', '1813', '1814', '1815', '1816', '1817', '1818', '1819', '182', '1820', '1821', '1822', '1823', '1824', '1825', '1826', '1827', '1828', '1829', '183', '1830', '1831', '1832', '1833', '1834', '1835', '1836', '1837', '1838', '1839', '184', '1840', '1841', '1842', '1843', '1844', '1845', '1846', '1847', '1848', '1849', '185', '1850', '1851', '1852', '1853', '1854', '1855', '1856', '1857', '1858', '1859', '186', '1860', '1861', '1862', '1863', '1864', '1865', '1866', '1867', '1868', '1869', '187', '1870', '1871', '1872', '1873', '1874', '1875', '1876', '1877', '1878', '1879', '188', '1880', '1881', '1882', '1883', '1884', '1885', '1886', '1887', '1888', '1889', '189', '1890', '1891', '1892', '1893', '1894', '1895', '1896', '1897', '1898', '1899', '19', '190', '1900', '1901', '1902', '1903', '1904', '1905', '1906', '1907', '1908', '1909', '191', '1910', '1911', '1912', '1913', '1914', '1915', '1916', '1917', '1918', '1919', '192', '1920', '1921', '1922', '1923', '1924', '1925', '1926', '1927', '1928', '1929', '193', '1930', '1931', '1932', '1933', '1934', '1935', '1936', '1937', '1938', '1939', '194', '1940', '1941', '1942', '1943', '1944', '1945', '1946', '1947', '1948', '1949', '195', '1950', '1951', '1952', '1953', '1954', '1955', '1956', '1957', '1958', '1959', '196', '1960', '1961', '1962', '1963', '1964', '1965', '1966', '1967', '1968', '1969', '197', '1970', '1971', '1972', '1973', '1974', '1975', '1976', '1977', '1978', '1979', '198', '1980', '1981', '1982', '1983', '1984', '1985', '1986', '1987', '1988', '1989', '199', '1990', '1991', '1992', '1993', '1994', '1995', '1996', '1997', '1998', '1999', '2', '20', '200', '2000', '2001', '2002', '2003', '2004', '2005', '2006', '2007', '2008', '2009', '201', '2010', '2011', '2012', '2013', '2014', '2015', '2016', '2017', '2018', '2019', '202', '2020', '2021', '2022', '2023', '2024', '2025', '2026', '2027', '2028', '2029', '203', '2030', '2031', '2032', '2033', '2034', '2035', '2036', '2037', '2038', '2039', '204', '2040', '2041', '2042', '2043', '2044', '2045', '2046', '2047', '2048', '2049', '205', '2050', '2051', '2052', '2053', '2054', '2055', '2056', '2057', '2058', '2059', '206', '2060', '2061', '2062', '2063', '2064', '2065', '2066', '2067', '2068', '2069', '207', '2070', '2071', '2072', '2073', '2074', '2075', '2076', '2077', '2078', '2079', '208', '2080', '2081', '2082', '2083', '2084', '2085', '2086', '2087', '2088', '2089', '209', '2090', '2091', '2092', '2093', '2094', '2095', '2096', '2097', '2098', '2099', '21', '210', '2100', '2101', '2102', '2103', '2104', '2105', '2106', '2107', '2108', '2109', '211', '2110', '2111', '2112', '2113', '2114', '2115', '2116', '2117', '2118', '2119', '212', '2120', '2121', '2122', '2123', '2124', '2125', '2126', '2127', '2128', '2129', '213', '2130', '2131', '2132', '2133', '2134', '2135', '2136', '2137', '2138', '2139', '214', '2140', '2141', '2142', '2143', '2144', '2145', '2146', '2147', '2148', '2149', '215', '2150', '2151', '2152', '2153', '2154', '2155', '2156', '2157', '2158', '2159', '216', '2160', '2161', '2162', '2163', '2164', '2165', '2166', '2167', '2168', '2169', '217', '2170', '2171', '2172', '2173', '2174', '2175', '2176', '2177', '2178', '2179', '218', '2180', '2181', '2182', '2183', '2184', '2185', '2186', '2187', '2188', '2189', '219', '2190', '2191', '2192', '2193', '2194', '2195', '2196', '2197', '2198', '2199', '22', '220', '2200', '2201', '2202', '2203', '2204', '2205', '2206', '2207', '2208', '2209', '221', '2210', '2211', '2212', '2213', '2214', '2215', '2216', '2217', '2218', '2219', '222', '2220', '2221', '2222', '2223', '2224', '2225', '2226', '2227', '2228', '2229', '223', '2230', '2231', '2232', '2233', '2234', '2235', '2236', '2237', '2238', '2239', '224', '2240', '2241', '2242', '2243', '2244', '2245', '2246', '2247', '2248', '2249', '225', '2250', '2251', '2252', '2253', '2254', '2255', '2256', '2257', '2258', '2259', '226', '2260', '2261', '2262', '2263', '2264', '2265', '2266', '2267', '2268', '2269', '227', '2270', '2271', '2272', '2273', '2274', '2275', '2276', '2277', '2278', '2279', '228', '2280', '2281', '2282', '2283', '2284', '2285', '2286', '2287', '2288', '2289', '229', '2290', '2291', '2292', '2293', '2294', '2295', '2296', '2297', '2298', '2299', '23', '230', '2300', '2301', '2302', '2303', '2304', '2305', '2306', '2307', '2308', '2309', '231', '2310', '2311', '2312', '2313', '2314', '2315', '2316', '2317', '2318', '2319', '232', '2320', '2321', '2322', '2323', '2324', '2325', '2326', '2327', '2328', '2329', '233', '2330', '2331', '2332', '2333', '2334', '2335', '2336', '2337', '2338', '2339', '234', '2340', '2341', '2342', '2343', '2344', '2345', '2346', '2347', '2348', '2349', '235', '2350', '2351', '2352', '2353', '2354', '2355', '2356', '2357', '2358', '2359', '236', '2360', '2361', '2362', '2363', '2364', '2365', '2366', '2367', '2368', '2369', '237', '2370', '2371', '2372', '2373', '2374', '2375', '2376', '2377', '2378', '2379', '238', '2380', '2381', '2382', '2383', '2384', '2385', '2386', '2387', '2388', '2389', '239', '2390', '2391', '2392', '2393', '2394', '2395', '2396', '2397', '2398', '2399', '24', '240', '2400', '2401', '2402', '2403', '2404', '2405', '2406', '2407', '2408', '2409', '241', '2410', '2411', '2412', '2413', '2414', '2415', '2416', '2417', '2418', '2419', '242', '2420', '2421', '2422', '2423', '2424', '2425', '2426', '2427', '2428', '2429', '243', '2430', '2431', '2432', '2433', '2434', '2435', '2436', '2437', '2438', '2439', '244', '2440', '2441', '2442', '2443', '2444', '2445', '2446', '2447', '2448', '2449', '245', '2450', '2451', '2452', '2453', '2454', '2455', '2456', '2457', '2458', '2459', '246', '2460', '2461', '2462', '2463', '2464', '2465', '2466', '2467', '2468', '2469', '247', '2470', '2471', '2472', '2473', '2474', '2475', '2476', '2477', '2478', '2479', '248', '2480', '2481', '2482', '2483', '2484', '2485', '2486', '2487', '2488', '2489', '249', '2490', '2491', '2492', '2493', '2494', '2495', '2496', '2497', '2498', '2499', '25', '250', '2500', '2501', '2502', '2503', '2504', '2505', '2506', '2507', '2508', '2509', '251', '2510', '2511', '2512', '2513', '2514', '2515', '2516', '2517', '2518', '2519', '252', '2520', '2521', '2522', '2523', '2524', '2525', '2526', '2527', '2528', '2529', '253', '2530', '2531', '2532', '2533', '2534', '2535', '2536', '2537', '2538', '2539', '254', '2540', '2541', '2542', '2543', '2544', '2545', '2546', '2547', '2548', '2549', '255', '2550', '2551', '2552', '2553', '2554', '2555', '2556', '2557', '2558', '2559', '256', '2560', '2561', '2562', '2563', '2564', '2565', '2566', '2567', '2568', '2569', '257', '2570', '2571', '2572', '2573', '2574', '2575', '2576', '2577', '2578', '2579', '258', '2580', '2581', '2582', '2583', '2584', '2585', '2586', '2587', '2588', '2589', '259', '2590', '2591', '2592', '2593', '2594', '2595', '2596', '2597', '2598', '2599', '26', '260', '2600', '2601', '2602', '2603', '2604', '2605', '2606', '2607', '2608', '2609', '261', '2610', '2611', '2612', '2613', '2614', '2615', '2616', '2617', '2618', '2619', '262', '2620', '2621', '2622', '2623', '2624', '2625', '2626', '2627', '2628', '2629', '263', '2630', '2631', '2632', '2633', '2634', '2635', '2636', '2637', '2638', '2639', '264', '2640', '2641', '2642', '2643', '2644', '2645', '2646', '2647', '2648', '2649', '265', '2650', '2651', '2652', '2653', '2654', '2655', '2656', '2657', '2658', '2659', '266', '2660', '2661', '2662', '2663', '2664', '2665', '2666', '2667', '2668', '2669', '267', '2670', '2671', '2672', '2673', '2674', '2675', '2676', '2677', '2678', '2679', '268', '2680', '2681', '2682', '2683', '2684', '2685', '2686', '2687', '2688', '2689', '269', '2690', '2691', '2692', '2693', '2694', '2695', '2696', '2697', '2698', '2699', '27', '270', '2700', '2701', '2702', '2703', '2704', '2705', '2706', '2707', '2708', '2709', '271', '2710', '2711', '2712', '2713', '2714', '2715', '2716', '2717', '2718', '2719', '272', '2720', '2721', '2722', '2723', '2724', '2725', '2726', '2727', '2728', '2729', '273', '2730', '2731', '2732', '2733', '2734', '2735', '2736', '2737', '2738', '2739', '274', '2740', '2741', '2742', '2743', '2744', '2745', '2746', '2747', '2748', '2749', '275', '2750', '2751', '2752', '2753', '2754', '2755', '2756', '2757', '2758', '2759', '276', '2760', '2761', '2762', '2763', '2764', '2765', '2766', '2767', '2768', '2769', '277', '2770', '2771', '2772', '2773', '2774', '2775', '2776', '2777', '2778', '2779', '278', '2780', '2781', '2782', '2783', '2784', '2785', '2786', '2787', '2788', '2789', '279', '2790', '2791', '2792', '2793', '2794', '2795', '2796', '2797', '2798', '2799', '28', '280', '2800', '2801', '2802', '2803', '2804', '2805', '2806', '2807', '2808', '2809', '281', '2810', '2811', '2812', '2813', '2814', '2815', '2816', '2817', '2818', '2819', '282', '2820', '2821', '2822', '2823', '2824', '2825', '2826', '2827', '2828', '2829', '283', '2830', '2831', '2832', '2833', '2834', '2835', '2836', '2837', '2838', '2839', '284', '2840', '2841', '2842', '2843', '2844', '2845', '2846', '2847', '2848', '2849', '285', '2850', '2851', '2852', '2853', '2854', '2855', '2856', '2857', '2858', '2859', '286', '2860', '2861', '2862', '2863', '2864', '2865', '2866', '2867', '2868', '2869', '287', '2870', '2871', '2872', '2873', '2874', '2875', '2876', '2877', '2878', '2879', '288', '2880', '2881', '2882', '2883', '2884', '2885', '2886', '2887', '2888', '2889', '289', '2890', '2891', '2892', '2893', '2894', '2895', '2896', '2897', '2898', '2899', '29', '290', '2900', '2901', '2902', '2903', '2904', '2905', '2906', '2907', '2908', '2909', '291', '2910', '2911', '2912', '2913', '2914', '2915', '2916', '2917', '2918', '2919', '292', '2920', '2921', '2922', '2923', '2924', '2925', '2926', '2927', '2928', '2929', '293', '2930', '2931', '2932', '2933', '2934', '2935', '2936', '2937', '2938', '2939', '294', '2940', '2941', '2942', '2943', '2944', '2945', '2946', '2947', '2948', '2949', '295', '2950', '2951', '2952', '2953', '2954', '2955', '2956', '2957', '2958', '2959', '296', '2960', '2961', '2962', '2963', '2964', '2965', '2966', '2967', '2968', '2969', '297', '2970', '2971', '2972', '2973', '2974', '2975', '2976', '2977', '2978', '2979', '298', '2980', '2981', '2982', '2983', '2984', '2985', '2986', '2987', '2988', '2989', '299', '2990', '2991', '2992', '2993', '2994', '2995', '2996', '2997', '2998', '2999', '3', '30', '300', '3000', '3001', '3002', '3003', '3004', '3005', '3006', '3007', '3008', '3009', '301', '3010', '3011', '3012', '3013', '3014', '3015', '3016', '3017', '3018', '3019', '302', '3020', '3021', '3022', '3023', '3024', '3025', '3026', '3027', '3028', '3029', '303', '3030', '3031', '3032', '3033', '3034', '3035', '3036', '3037', '3038', '3039', '304', '3040', '3041', '3042', '3043', '3044', '3045', '3046', '3047', '3048', '3049', '305', '3050', '3051', '3052', '3053', '3054', '3055', '3056', '3057', '3058', '3059', '306', '3060', '3061', '3062', '3063', '3064', '3065', '3066', '3067', '3068', '3069', '307', '3070', '3071', '3072', '3073', '3074', '3075', '3076', '3077', '3078', '3079', '308', '3080', '3081', '3082', '3083', '3084', '3085', '3086', '3087', '3088', '3089', '309', '3090', '3091', '3092', '3093', '3094', '3095', '3096', '3097', '3098', '3099', '31', '310', '3100', '3101', '3102', '3103', '3104', '3105', '3106', '3107', '3108', '3109', '311', '3110', '3111', '3112', '3113', '3114', '3115', '3116', '3117', '3118', '3119', '312', '3120', '3121', '3122', '3123', '3124', '3125', '3126', '3127', '3128', '3129', '313', '3130', '3131', '3132', '3133', '3134', '3135', '3136', '3137', '3138', '3139', '314', '3140', '3141', '3142', '3143', '3144', '3145', '3146', '3147', '3148', '3149', '315', '3150', '3151', '3152', '3153', '3154', '3155', '3156', '3157', '3158', '3159', '316', '3160', '3161', '3162', '3163', '3164', '3165', '3166', '3167', '3168', '3169', '317', '3170', '3171', '3172', '3173', '3174', '3175', '3176', '3177', '3178', '3179', '318', '3180', '3181', '3182', '3183', '3184', '3185', '3186', '3187', '3188', '3189', '319', '3190', '3191', '3192', '3193', '3194', '3195', '3196', '3197', '3198', '3199', '32', '320', '3200', '3201', '3202', '3203', '3204', '3205', '3206', '3207', '3208', '3209', '321', '3210', '3211', '3212', '3213', '3214', '3215', '3216', '3217', '3218', '3219', '322', '3220', '3221', '3222', '3223', '3224', '3225', '3226', '3227', '3228', '3229', '323', '3230', '3231', '3232', '3233', '3234', '3235', '3236', '3237', '3238', '3239', '324', '3240', '3241', '3242', '3243', '3244', '3245', '3246', '3247', '3248', '3249', '325', '3250', '3251', '3252', '3253', '3254', '3255', '3256', '3257', '3258', '3259', '326', '3260', '3261', '3262', '3263', '3264', '3265', '3266', '3267', '3268', '3269', '327', '3270', '3271', '3272', '3273', '3274', '3275', '3276', '3277', '3278', '3279', '328', '3280', '3281', '3282', '3283', '3284', '3285', '3286', '3287', '3288', '3289', '329', '3290', '3291', '3292', '3293', '3294', '3295', '3296', '3297', '3298', '3299', '33', '330', '3300', '3301', '3302', '3303', '3304', '3305', '3306', '3307', '3308', '3309', '331', '3310', '3311', '3312', '3313', '3314', '3315', '3316', '3317', '3318', '3319', '332', '3320', '3321', '3322', '3323', '3324', '3325', '3326', '3327', '3328', '3329', '333', '3330', '3331', '3332', '3333', '3334', '3335', '3336', '3337', '3338', '3339', '334', '3340', '3341', '3342', '3343', '3344', '3345', '3346', '3347', '3348', '3349', '335', '3350', '3351', '3352', '3353', '3354', '3355', '3356', '3357', '3358', '3359', '336', '3360', '3361', '3362', '3363', '3364', '3365', '3366', '3367', '3368', '3369', '337', '3370', '3371', '3372', '3373', '3374', '3375', '3376', '3377', '3378', '3379', '338', '3380', '3381', '3382', '3383', '3384', '3385', '3386', '3387', '3388', '3389', '339', '3390', '3391', '3392', '3393', '3394', '3395', '3396', '3397', '3398', '3399', '34', '340', '3400', '3401', '3402', '3403', '3404', '3405', '3406', '3407', '3408', '3409', '341', '3410', '3411', '3412', '3413', '3414', '3415', '3416', '3417', '3418', '3419', '342', '3420', '3421', '3422', '3423', '3424', '3425', '3426', '3427', '3428', '3429', '343', '3430', '3431', '3432', '3433', '3434', '3435', '3436', '3437', '3438', '3439', '344', '3440', '3441', '3442', '3443', '3444', '3445', '3446', '3447', '3448', '3449', '345', '3450', '3451', '3452', '3453', '3454', '3455', '3456', '3457', '3458', '3459', '346', '3460', '3461', '3462', '3463', '3464', '3465', '3466', '3467', '3468', '3469', '347', '3470', '3471', '3472', '3473', '3474', '3475', '3476', '3477', '3478', '3479', '348', '3480', '3481', '3482', '3483', '3484', '3485', '3486', '3487', '3488', '3489', '349', '3490', '3491', '3492', '3493', '3494', '3495', '3496', '3497', '3498', '3499', '35', '350', '3500', '3501', '3502', '3503', '3504', '3505', '3506', '3507', '3508', '3509', '351', '3510', '3511', '3512', '3513', '3514', '3515', '3516', '3517', '3518', '3519', '352', '3520', '3521', '3522', '3523', '3524', '3525', '3526', '3527', '3528', '3529', '353', '3530', '3531', '3532', '3533', '3534', '3535', '3536', '3537', '3538', '3539', '354', '3540', '3541', '3542', '3543', '3544', '3545', '3546', '3547', '3548', '3549', '355', '3550', '3551', '3552', '3553', '3554', '3555', '3556', '3557', '3558', '3559', '356', '3560', '3561', '3562', '3563', '3564', '3565', '3566', '3567', '3568', '3569', '357', '3570', '3571', '3572', '3573', '3574', '3575', '3576', '3577', '3578', '3579', '358', '3580', '3581', '3582', '3583', '3584', '3585', '3586', '3587', '3588', '3589', '359', '3590', '3591', '3592', '3593', '3594', '3595', '3596', '3597', '3598', '3599', '36', '360', '3600', '3601', '3602', '3603', '3604', '3605', '3606', '3607', '3608', '3609', '361', '3610', '3611', '3612', '3613', '3614', '3615', '3616', '3617', '3618', '3619', '362', '3620', '3621', '3622', '3623', '3624', '3625', '3626', '3627', '3628', '3629', '363', '3630', '3631', '3632', '3633', '3634', '3635', '3636', '3637', '3638', '3639', '364', '3640', '3641', '3642', '3643', '3644', '3645', '3646', '3647', '3648', '3649', '365', '3650', '3651', '3652', '3653', '3654', '3655', '3656', '3657', '3658', '3659', '366', '3660', '3661', '3662', '3663', '3664', '3665', '3666', '3667', '3668', '3669', '367', '3670', '3671', '3672', '3673', '3674', '3675', '3676', '3677', '3678', '3679', '368', '3680', '3681', '3682', '3683', '3684', '3685', '3686', '3687', '3688', '3689', '369', '3690', '3691', '3692', '3693', '3694', '3695', '3696', '3697', '3698', '3699', '37', '370', '3700', '3701', '3702', '3703', '3704', '3705', '3706', '3707', '3708', '3709', '371', '3710', '3711', '3712', '3713', '3714', '3715', '3716', '3717', '3718', '3719', '372', '3720', '3721', '3722', '3723', '3724', '3725', '3726', '3727', '3728', '3729', '373', '3730', '3731', '3732', '3733', '3734', '3735', '3736', '3737', '3738', '3739', '374', '3740', '3741', '3742', '3743', '3744', '3745', '3746', '3747', '3748', '3749', '375', '3750', '3751', '3752', '3753', '3754', '3755', '3756', '3757', '3758', '3759', '376', '3760', '3761', '3762', '3763', '3764', '3765', '3766', '3767', '3768', '3769', '377', '3770', '3771', '3772', '3773', '3774', '3775', '3776', '3777', '3778', '3779', '378', '3780', '3781', '3782', '3783', '3784', '3785', '3786', '3787', '3788', '3789', '379', '3790', '3791', '3792', '3793', '3794', '3795', '3796', '3797', '3798', '3799', '38', '380', '3800', '3801', '3802', '3803', '3804', '3805', '3806', '3807', '3808', '3809', '381', '3810', '3811', '3812', '3813', '3814', '3815', '3816', '3817', '3818', '3819', '382', '3820', '3821', '3822', '3823', '3824', '3825', '3826', '3827', '3828', '3829', '383', '3830', '3831', '3832', '3833', '3834', '3835', '3836', '3837', '3838', '3839', '384', '3840', '3841', '3842', '3843', '3844', '3845', '3846', '3847', '3848', '3849', '385', '3850', '3851', '3852', '3853', '3854', '3855', '3856', '3857', '3858', '3859', '386', '3860', '3861', '3862', '3863', '3864', '3865', '3866', '3867', '3868', '3869', '387', '3870', '3871', '3872', '3873', '3874', '3875', '3876', '3877', '3878', '3879', '388', '3880', '3881', '3882', '3883', '3884', '3885', '3886', '3887', '3888', '3889', '389', '3890', '3891', '3892', '3893', '3894', '3895', '3896', '3897', '3898', '3899', '39', '390', '3900', '3901', '3902', '3903', '3904', '3905', '3906', '3907', '3908', '3909', '391', '3910', '3911', '3912', '3913', '3914', '3915', '3916', '3917', '3918', '3919', '392', '3920', '3921', '3922', '3923', '3924', '3925', '3926', '3927', '3928', '3929', '393', '3930', '3931', '3932', '3933', '3934', '3935', '3936', '3937', '3938', '3939', '394', '3940', '3941', '3942', '3943', '3944', '3945', '3946', '3947', '3948', '3949', '395', '3950', '3951', '3952', '3953', '3954', '3955', '3956', '3957', '3958', '3959', '396', '3960', '3961', '3962', '3963', '3964', '3965', '3966', '3967', '3968', '3969', '397', '3970', '3971', '3972', '3973', '3974', '3975', '3976', '3977', '3978', '3979', '398', '3980', '3981', '3982', '3983', '3984', '3985', '3986', '3987', '3988', '3989', '399', '3990', '3991', '3992', '3993', '3994', '3995', '3996', '3997', '3998', '3999', '4', '40', '400', '4000', '4001', '4002', '4003', '4004', '4005', '4006', '4007', '4008', '4009', '401', '4010', '4011', '4012', '4013', '4014', '4015', '4016', '4017', '4018', '4019', '402', '4020', '4021', '4022', '4023', '4024', '4025', '4026', '4027', '4028', '4029', '403', '4030', '4031', '4032', '4033', '4034', '4035', '4036', '4037', '4038', '4039', '404', '4040', '4041', '4042', '4043', '4044', '4045', '4046', '4047', '4048', '4049', '405', '4050', '4051', '4052', '4053', '4054', '4055', '4056', '4057', '4058', '4059', '406', '4060', '4061', '4062', '4063', '4064', '4065', '4066', '4067', '4068', '4069', '407', '4070', '4071', '4072', '4073', '4074', '4075', '4076', '4077', '4078', '4079', '408', '4080', '4081', '4082', '4083', '4084', '4085', '4086', '4087', '4088', '4089', '409', '4090', '4091', '4092', '4093', '4094', '4095', '4096', '4097', '4098', '4099', '41', '410', '4100', '4101', '4102', '4103', '4104', '4105', '4106', '4107', '4108', '4109', '411', '4110', '4111', '4112', '4113', '4114', '4115', '4116', '4117', '4118', '4119', '412', '4120', '4121', '4122', '4123', '4124', '4125', '4126', '4127', '4128', '4129', '413', '4130', '4131', '4132', '4133', '4134', '4135', '4136', '4137', '4138', '4139', '414', '4140', '4141', '4142', '4143', '4144', '4145', '4146', '4147', '4148', '4149', '415', '4150', '4151', '4152', '4153', '4154', '4155', '4156', '4157', '4158', '4159', '416', '4160', '4161', '4162', '4163', '4164', '4165', '4166', '4167', '4168', '4169', '417', '4170', '4171', '4172', '4173', '4174', '4175', '4176', '4177', '4178', '4179', '418', '4180', '4181', '4182', '4183', '4184', '4185', '4186', '4187', '4188', '4189', '419', '4190', '4191', '4192', '4193', '4194', '4195', '4196', '4197', '4198', '4199', '42', '420', '4200', '4201', '4202', '4203', '4204', '4205', '4206', '4207', '4208', '4209', '421', '4210', '4211', '4212', '4213', '4214', '4215', '4216', '4217', '4218', '4219', '422', '4220', '4221', '4222', '4223', '4224', '4225', '4226', '4227', '4228', '4229', '423', '4230', '4231', '4232', '4233', '4234', '4235', '4236', '4237', '4238', '4239', '424', '4240', '4241', '4242', '4243', '4244', '4245', '4246', '4247', '4248', '4249', '425', '4250', '4251', '4252', '4253', '4254', '4255', '4256', '4257', '4258', '4259', '426', '4260', '4261', '4262', '4263', '4264', '4265', '4266', '4267', '4268', '4269', '427', '4270', '4271', '4272', '4273', '4274', '4275', '4276', '4277', '4278', '4279', '428', '4280', '4281', '4282', '4283', '4284', '4285', '4286', '4287', '4288', '4289', '429', '4290', '4291', '4292', '4293', '4294', '4295', '4296', '4297', '4298', '4299', '43', '430', '4300', '4301', '4302', '4303', '4304', '4305', '4306', '4307', '4308', '4309', '431', '4310', '4311', '4312', '4313', '4314', '4315', '4316', '4317', '4318', '4319', '432', '4320', '4321', '4322', '4323', '4324', '4325', '4326', '4327', '4328', '4329', '433', '4330', '4331', '4332', '4333', '4334', '4335', '4336', '4337', '4338', '4339', '434', '4340', '4341', '4342', '4343', '4344', '4345', '4346', '4347', '4348', '4349', '435', '4350', '4351', '4352', '4353', '4354', '4355', '4356', '4357', '4358', '4359', '436', '4360', '4361', '4362', '4363', '4364', '4365', '4366', '4367', '4368', '4369', '437', '4370', '4371', '4372', '4373', '4374', '4375', '4376', '4377', '4378', '4379', '438', '4380', '4381', '4382', '4383', '4384', '4385', '4386', '4387', '4388', '4389', '439', '4390', '4391', '4392', '4393', '4394', '4395', '4396', '4397', '4398', '4399', '44', '440', '4400', '4401', '4402', '4403', '4404', '4405', '4406', '4407', '4408', '4409', '441', '4410', '4411', '4412', '4413', '4414', '4415', '4416', '4417', '4418', '4419', '442', '4420', '4421', '4422', '4423', '4424', '4425', '4426', '4427', '4428', '4429', '443', '4430', '4431', '4432', '4433', '4434', '4435', '4436', '4437', '4438', '4439', '444', '4440', '4441', '4442', '4443', '4444', '4445', '4446', '4447', '4448', '4449', '445', '4450', '4451', '4452', '4453', '4454', '4455', '4456', '4457', '4458', '4459', '446', '4460', '4461', '4462', '4463', '4464', '4465', '4466', '4467', '4468', '4469', '447', '4470', '4471', '4472', '4473', '4474', '4475', '4476', '4477', '4478', '4479', '448', '4480', '4481', '4482', '4483', '4484', '4485', '4486', '4487', '4488', '4489', '449', '4490', '4491', '4492', '4493', '4494', '4495', '4496', '4497', '4498', '4499', '45', '450', '4500', '4501', '4502', '4503', '4504', '4505', '4506', '4507', '4508', '4509', '451', '4510', '4511', '452', '453', '454', '455', '456', '457', '458', '459', '46', '460', '461', '462', '463', '464', '465', '466', '467', '468', '469', '47', '470', '471', '472', '473', '474', '475', '476', '477', '478', '479', '48', '480', '481', '482', '483', '484', '485', '486', '487', '488', '489', '49', '490', '491', '492', '493', '494', '495', '496', '497', '498', '499', '5', '50', '500', '501', '502', '503', '504', '505', '506', '507', '508', '509', '51', '510', '511', '512', '513', '514', '515', '516', '517', '518', '519', '52', '520', '521', '522', '523', '524', '525', '526', '527', '528', '529', '53', '530', '531', '532', '533', '534', '535', '536', '537', '538', '539', '54', '540', '541', '542', '543', '544', '545', '546', '547', '548', '549', '55', '550', '551', '552', '553', '554', '555', '556', '557', '558', '559', '56', '560', '561', '562', '563', '564', '565', '566', '567', '568', '569', '57', '570', '571', '572', '573', '574', '575', '576', '577', '578', '579', '58', '580', '581', '582', '583', '584', '585', '586', '587', '588', '589', '59', '590', '591', '592', '593', '594', '595', '596', '597', '598', '599', '6', '60', '600', '601', '602', '603', '604', '605', '606', '607', '608', '609', '61', '610', '611', '612', '613', '614', '615', '616', '617', '618', '619', '62', '620', '621', '622', '623', '624', '625', '626', '627', '628', '629', '63', '630', '631', '632', '633', '634', '635', '636', '637', '638', '639', '64', '640', '641', '642', '643', '644', '645', '646', '647', '648', '649', '65', '650', '651', '652', '653', '654', '655', '656', '657', '658', '659', '66', '660', '661', '662', '663', '664', '665', '666', '667', '668', '669', '67', '670', '671', '672', '673', '674', '675', '676', '677', '678', '679', '68', '680', '681', '682', '683', '684', '685', '686', '687', '688', '689', '69', '690', '691', '692', '693', '694', '695', '696', '697', '698', '699', '7', '70', '700', '701', '702', '703', '704', '705', '706', '707', '708', '709', '71', '710', '711', '712', '713', '714', '715', '716', '717', '718', '719', '72', '720', '721', '722', '723', '724', '725', '726', '727', '728', '729', '73', '730', '731', '732', '733', '734', '735', '736', '737', '738', '739', '74', '740', '741', '742', '743', '744', '745', '746', '747', '748', '749', '75', '750', '751', '752', '753', '754', '755', '756', '757', '758', '759', '76', '760', '761', '762', '763', '764', '765', '766', '767', '768', '769', '77', '770', '771', '772', '773', '774', '775', '776', '777', '778', '779', '78', '780', '781', '782', '783', '784', '785', '786', '787', '788', '789', '79', '790', '791', '792', '793', '794', '795', '796', '797', '798', '799', '8', '80', '800', '801', '802', '803', '804', '805', '806', '807', '808', '809', '81', '810', '811', '812', '813', '814', '815', '816', '817', '818', '819', '82', '820', '821', '822', '823', '824', '825', '826', '827', '828', '829', '83', '830', '831', '832', '833', '834', '835', '836', '837', '838', '839', '84', '840', '841', '842', '843', '844', '845', '846', '847', '848', '849', '85', '850', '851', '852', '853', '854', '855', '856', '857', '858', '859', '86', '860', '861', '862', '863', '864', '865', '866', '867', '868', '869', '87', '870', '871', '872', '873', '874', '875', '876', '877', '878', '879', '88', '880', '881', '882', '883', '884', '885', '886', '887', '888', '889', '89', '890', '891', '892', '893', '894', '895', '896', '897', '898', '899', '9', '90', '900', '901', '902', '903', '904', '905', '906', '907', '908', '909', '91', '910', '911', '912', '913', '914', '915', '916', '917', '918', '919', '92', '920', '921', '922', '923', '924', '925', '926', '927', '928', '929', '93', '930', '931', '932', '933', '934', '935', '936', '937', '938', '939', '94', '940', '941', '942', '943', '944', '945', '946', '947', '948', '949', '95', '950', '951', '952', '953', '954', '955', '956', '957', '958', '959', '96', '960', '961', '962', '963', '964', '965', '966', '967', '968', '969', '97', '970', '971', '972', '973', '974', '975', '976', '977', '978', '979', '98', '980', '981', '982', '983', '984', '985', '986', '987', '988', '989', '99', '990', '991', '992', '993', '994', '995', '996', '997', '998', '999']\n"
          ],
          "name": "stdout"
        }
      ]
    },
    {
      "cell_type": "code",
      "metadata": {
        "id": "nVEu3apJBaig"
      },
      "source": [
        "#%% kilpailutiedoston muodostaminen\n",
        "with open(\"sample_submission2.csv\", \"w\") as fp: \n",
        "    fp.write(\"ID,Predicted\\n\") \n",
        "    for idx in range(4512): \n",
        "        fp.write(f\"{int(test_list[idx])},{results[idx]}\\n\") \n"
      ],
      "execution_count": 40,
      "outputs": []
    }
  ]
}